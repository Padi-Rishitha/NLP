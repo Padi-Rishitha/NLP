{
 "cells": [
  {
   "cell_type": "markdown",
   "id": "47627bec",
   "metadata": {},
   "source": [
    "# Split Function"
   ]
  },
  {
   "cell_type": "code",
   "execution_count": null,
   "id": "9a339e88",
   "metadata": {},
   "outputs": [],
   "source": [
    "#word tokenisation"
   ]
  },
  {
   "cell_type": "code",
   "execution_count": 1,
   "id": "2b18c311",
   "metadata": {},
   "outputs": [
    {
     "data": {
      "text/plain": [
       "['I', 'am', 'goint', 'to', 'Delhi']"
      ]
     },
     "execution_count": 1,
     "metadata": {},
     "output_type": "execute_result"
    }
   ],
   "source": [
    "text = 'I am goint to Delhi'\n",
    "text.split(\" \")"
   ]
  },
  {
   "cell_type": "code",
   "execution_count": 2,
   "id": "b4cbeebd",
   "metadata": {},
   "outputs": [
    {
     "data": {
      "text/plain": [
       "['I am going to Delhi',\n",
       " ' I will stay for 3 years',\n",
       " ' Let\"s hope I will enjoy my trip']"
      ]
     },
     "execution_count": 2,
     "metadata": {},
     "output_type": "execute_result"
    }
   ],
   "source": [
    "#Sentence Toeknisation\n",
    "text2= 'I am going to Delhi. I will stay for 3 years. Let\"s hope I will enjoy my trip'\n",
    "text2.split('.')"
   ]
  },
  {
   "cell_type": "markdown",
   "id": "cc0d0c01",
   "metadata": {},
   "source": [
    "# Regular Expression "
   ]
  },
  {
   "cell_type": "code",
   "execution_count": 3,
   "id": "4a398443",
   "metadata": {},
   "outputs": [],
   "source": [
    "import re"
   ]
  },
  {
   "cell_type": "code",
   "execution_count": null,
   "id": "7db60076",
   "metadata": {},
   "outputs": [],
   "source": [
    "sent3= 'I am goint to delhi'\n",
    "tokens = re.findall(\"[\\w']+\",text)"
   ]
  }
 ],
 "metadata": {
  "kernelspec": {
   "display_name": "Python 3 (ipykernel)",
   "language": "python",
   "name": "python3"
  },
  "language_info": {
   "codemirror_mode": {
    "name": "ipython",
    "version": 3
   },
   "file_extension": ".py",
   "mimetype": "text/x-python",
   "name": "python",
   "nbconvert_exporter": "python",
   "pygments_lexer": "ipython3",
   "version": "3.9.12"
  }
 },
 "nbformat": 4,
 "nbformat_minor": 5
}
