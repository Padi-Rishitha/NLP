{
 "cells": [
  {
   "cell_type": "code",
   "execution_count": 1,
   "id": "6975e3d3",
   "metadata": {},
   "outputs": [],
   "source": [
    "from nltk.stem.porter import PorterStemmer"
   ]
  },
  {
   "cell_type": "code",
   "execution_count": 3,
   "id": "a08a5764",
   "metadata": {},
   "outputs": [],
   "source": [
    "ps= PorterStemmer()\n",
    "def stem_words(data):\n",
    "    return \" \".join([ps.stem(word) for word in data.split()])"
   ]
  },
  {
   "cell_type": "code",
   "execution_count": 4,
   "id": "08a85f3f",
   "metadata": {},
   "outputs": [
    {
     "data": {
      "text/plain": [
       "'walk walk walk walk'"
      ]
     },
     "execution_count": 4,
     "metadata": {},
     "output_type": "execute_result"
    }
   ],
   "source": [
    "sample= 'walk walked walks walking'\n",
    "stem_words(sample)"
   ]
  },
  {
   "cell_type": "code",
   "execution_count": 5,
   "id": "9e85810a",
   "metadata": {},
   "outputs": [],
   "source": [
    "text='But Flesch was one of the first to argue that longer sentences are harder to read. Whatever nuances of his readability index have been revised, shorter sentences still remain clearer than longer ones.'"
   ]
  },
  {
   "cell_type": "code",
   "execution_count": 6,
   "id": "84902f0a",
   "metadata": {},
   "outputs": [
    {
     "data": {
      "text/plain": [
       "'but flesch wa one of the first to argu that longer sentenc are harder to read. whatev nuanc of hi readabl index have been revised, shorter sentenc still remain clearer than longer ones.'"
      ]
     },
     "execution_count": 6,
     "metadata": {},
     "output_type": "execute_result"
    }
   ],
   "source": [
    "stem_words(text)"
   ]
  },
  {
   "cell_type": "code",
   "execution_count": 7,
   "id": "407cbe17",
   "metadata": {},
   "outputs": [],
   "source": [
    "#This is the problem with Stemming so we use lemmiatization"
   ]
  },
  {
   "cell_type": "markdown",
   "id": "08d356df",
   "metadata": {},
   "source": [
    "# Lemmiatization"
   ]
  },
  {
   "cell_type": "code",
   "execution_count": 1,
   "id": "d68e956d",
   "metadata": {},
   "outputs": [],
   "source": [
    "import nltk"
   ]
  },
  {
   "cell_type": "code",
   "execution_count": 7,
   "id": "8d784c95",
   "metadata": {},
   "outputs": [
    {
     "name": "stderr",
     "output_type": "stream",
     "text": [
      "[nltk_data] Downloading package punkt to\n",
      "[nltk_data]     C:\\Users\\admin\\AppData\\Roaming\\nltk_data...\n",
      "[nltk_data]   Unzipping tokenizers\\punkt.zip.\n"
     ]
    },
    {
     "data": {
      "text/plain": [
       "True"
      ]
     },
     "execution_count": 7,
     "metadata": {},
     "output_type": "execute_result"
    }
   ],
   "source": [
    "nltk.download('punkt')"
   ]
  },
  {
   "cell_type": "code",
   "execution_count": 8,
   "id": "ff6be65c",
   "metadata": {},
   "outputs": [],
   "source": [
    "from nltk.stem import WordNetLemmatizer"
   ]
  },
  {
   "cell_type": "code",
   "execution_count": 9,
   "id": "d5843cd7",
   "metadata": {},
   "outputs": [],
   "source": [
    "word_net= WordNetLemmatizer()"
   ]
  },
  {
   "cell_type": "code",
   "execution_count": 10,
   "id": "5aeb1908",
   "metadata": {},
   "outputs": [],
   "source": [
    "sent = 'He was running and eating at same time. He has bad habit of swimming after playing long hours in Sun.'"
   ]
  },
  {
   "cell_type": "code",
   "execution_count": 11,
   "id": "96578ef5",
   "metadata": {},
   "outputs": [],
   "source": [
    "puncutations='./?:,!;'\n",
    "sent_words= nltk.word_tokenize(sent)"
   ]
  },
  {
   "cell_type": "code",
   "execution_count": 12,
   "id": "71388800",
   "metadata": {},
   "outputs": [],
   "source": [
    "for word in sent_words:\n",
    "    if word in puncutations:\n",
    "        sent_words.remove(word)\n",
    "    sent_words\n",
    "        "
   ]
  },
  {
   "cell_type": "code",
   "execution_count": 14,
   "id": "7d6d61d9",
   "metadata": {},
   "outputs": [
    {
     "name": "stderr",
     "output_type": "stream",
     "text": [
      "[nltk_data] Downloading package wordnet to\n",
      "[nltk_data]     C:\\Users\\admin\\AppData\\Roaming\\nltk_data...\n"
     ]
    },
    {
     "data": {
      "text/plain": [
       "True"
      ]
     },
     "execution_count": 14,
     "metadata": {},
     "output_type": "execute_result"
    }
   ],
   "source": [
    "nltk.download('wordnet')"
   ]
  },
  {
   "cell_type": "code",
   "execution_count": 16,
   "id": "fde04854",
   "metadata": {},
   "outputs": [
    {
     "name": "stderr",
     "output_type": "stream",
     "text": [
      "[nltk_data] Downloading package omw-1.4 to\n",
      "[nltk_data]     C:\\Users\\admin\\AppData\\Roaming\\nltk_data...\n"
     ]
    },
    {
     "data": {
      "text/plain": [
       "True"
      ]
     },
     "execution_count": 16,
     "metadata": {},
     "output_type": "execute_result"
    }
   ],
   "source": [
    " nltk.download('omw-1.4')"
   ]
  },
  {
   "cell_type": "code",
   "execution_count": 21,
   "id": "88ae4c57",
   "metadata": {},
   "outputs": [
    {
     "name": "stdout",
     "output_type": "stream",
     "text": [
      "Word                Lemma               \n",
      "He                  He                  \n",
      "was                 be                  \n",
      "running             run                 \n",
      "and                 and                 \n",
      "eating              eat                 \n",
      "at                  at                  \n",
      "same                same                \n",
      "time                time                \n",
      "He                  He                  \n",
      "has                 have                \n",
      "bad                 bad                 \n",
      "habit               habit               \n",
      "of                  of                  \n",
      "swimming            swim                \n",
      "after               after               \n",
      "playing             play                \n",
      "long                long                \n",
      "hours               hours               \n",
      "in                  in                  \n",
      "Sun                 Sun                 \n"
     ]
    }
   ],
   "source": [
    "print(\"{0:20}{1:20}\".format(\"Word\",\"Lemma\"))\n",
    "for word in sent_words:\n",
    "    print(\"{0:20}{1:20}\".format(word,word_net.lemmatize(word,pos='v')))"
   ]
  },
  {
   "cell_type": "code",
   "execution_count": null,
   "id": "414e9216",
   "metadata": {},
   "outputs": [],
   "source": []
  }
 ],
 "metadata": {
  "kernelspec": {
   "display_name": "Python 3 (ipykernel)",
   "language": "python",
   "name": "python3"
  },
  "language_info": {
   "codemirror_mode": {
    "name": "ipython",
    "version": 3
   },
   "file_extension": ".py",
   "mimetype": "text/x-python",
   "name": "python",
   "nbconvert_exporter": "python",
   "pygments_lexer": "ipython3",
   "version": "3.9.12"
  }
 },
 "nbformat": 4,
 "nbformat_minor": 5
}
