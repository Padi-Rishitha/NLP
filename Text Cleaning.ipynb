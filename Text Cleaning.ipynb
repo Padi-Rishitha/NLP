{
 "cells": [
  {
   "cell_type": "markdown",
   "id": "3eee3e90",
   "metadata": {},
   "source": [
    "# Removing HTML Tags "
   ]
  },
  {
   "cell_type": "code",
   "execution_count": 9,
   "id": "3db0bfa4",
   "metadata": {},
   "outputs": [],
   "source": [
    "sample_text = '<h2>HTML Elements </h2><p> The HtML <code class=\"w3.codespan\"></code> element defines superscript text. <p>The first line.<br>'"
   ]
  },
  {
   "cell_type": "code",
   "execution_count": 10,
   "id": "de49c18b",
   "metadata": {},
   "outputs": [
    {
     "data": {
      "text/plain": [
       "'<h2>HTML Elements </h2><p> The HtML <code class=\"w3.codespan\"></code> element defines superscript text. <p>The first line.<br>'"
      ]
     },
     "execution_count": 10,
     "metadata": {},
     "output_type": "execute_result"
    }
   ],
   "source": [
    "sample_text"
   ]
  },
  {
   "cell_type": "code",
   "execution_count": 11,
   "id": "d2ce9693",
   "metadata": {},
   "outputs": [],
   "source": [
    "import re\n",
    "def striphtml(data):\n",
    "    p=re.compile(r'<.*?>')\n",
    "    return p.sub('',data)"
   ]
  },
  {
   "cell_type": "code",
   "execution_count": 12,
   "id": "af7c12ec",
   "metadata": {},
   "outputs": [
    {
     "data": {
      "text/plain": [
       "'HTML Elements  The HtML  element defines superscript text. The first line.'"
      ]
     },
     "execution_count": 12,
     "metadata": {},
     "output_type": "execute_result"
    }
   ],
   "source": [
    "striphtml(sample_text)"
   ]
  },
  {
   "cell_type": "markdown",
   "id": "8cdf5a00",
   "metadata": {},
   "source": [
    "# Unicode Normalisation"
   ]
  },
  {
   "cell_type": "code",
   "execution_count": 13,
   "id": "45dfcfb9",
   "metadata": {},
   "outputs": [],
   "source": [
    "emoji_text = 'First, we established subjects. I was 🤓, and I could use it to represent “me” in sentences. For example, 🤓🏃‍🏢 could mean “I’m running to work.”'"
   ]
  },
  {
   "cell_type": "code",
   "execution_count": 14,
   "id": "e6cafc41",
   "metadata": {},
   "outputs": [
    {
     "data": {
      "text/plain": [
       "'First, we established subjects. I was 🤓, and I could use it to represent “me” in sentences. For example, 🤓🏃\\u200d🏢 could mean “I’m running to work.”'"
      ]
     },
     "execution_count": 14,
     "metadata": {},
     "output_type": "execute_result"
    }
   ],
   "source": [
    "emoji_text"
   ]
  },
  {
   "cell_type": "code",
   "execution_count": 15,
   "id": "8cd0bdee",
   "metadata": {},
   "outputs": [
    {
     "data": {
      "text/plain": [
       "b'First, we established subjects. I was \\xf0\\x9f\\xa4\\x93, and I could use it to represent \\xe2\\x80\\x9cme\\xe2\\x80\\x9d in sentences. For example, \\xf0\\x9f\\xa4\\x93\\xf0\\x9f\\x8f\\x83\\xe2\\x80\\x8d\\xf0\\x9f\\x8f\\xa2 could mean \\xe2\\x80\\x9cI\\xe2\\x80\\x99m running to work.\\xe2\\x80\\x9d'"
      ]
     },
     "execution_count": 15,
     "metadata": {},
     "output_type": "execute_result"
    }
   ],
   "source": [
    "emoji_text.encode('utf-8')"
   ]
  },
  {
   "cell_type": "markdown",
   "id": "5a7d3f00",
   "metadata": {},
   "source": [
    "# Spell Checking "
   ]
  },
  {
   "cell_type": "code",
   "execution_count": 16,
   "id": "fc69bd33",
   "metadata": {},
   "outputs": [],
   "source": [
    "incorrect_text= 'ceertain conditionas durrinng seveal ggenerattion aree modified in the saame maner'"
   ]
  },
  {
   "cell_type": "code",
   "execution_count": 19,
   "id": "c282108b",
   "metadata": {},
   "outputs": [],
   "source": [
    "from textblob import TextBlob"
   ]
  },
  {
   "cell_type": "code",
   "execution_count": 20,
   "id": "953cf77e",
   "metadata": {},
   "outputs": [],
   "source": [
    "textblb= TextBlob(incorrect_text)"
   ]
  },
  {
   "cell_type": "code",
   "execution_count": 21,
   "id": "652bf53f",
   "metadata": {},
   "outputs": [
    {
     "data": {
      "text/plain": [
       "TextBlob(\"certain conditions during several generation are modified in the same manner\")"
      ]
     },
     "execution_count": 21,
     "metadata": {},
     "output_type": "execute_result"
    }
   ],
   "source": [
    "textblb.correct()"
   ]
  },
  {
   "cell_type": "code",
   "execution_count": null,
   "id": "6d8a7288",
   "metadata": {},
   "outputs": [],
   "source": []
  }
 ],
 "metadata": {
  "kernelspec": {
   "display_name": "Python 3 (ipykernel)",
   "language": "python",
   "name": "python3"
  },
  "language_info": {
   "codemirror_mode": {
    "name": "ipython",
    "version": 3
   },
   "file_extension": ".py",
   "mimetype": "text/x-python",
   "name": "python",
   "nbconvert_exporter": "python",
   "pygments_lexer": "ipython3",
   "version": "3.9.12"
  }
 },
 "nbformat": 4,
 "nbformat_minor": 5
}
